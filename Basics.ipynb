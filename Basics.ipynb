{
 "cells": [
  {
   "cell_type": "code",
   "execution_count": 1368,
   "metadata": {},
   "outputs": [],
   "source": [
    "import torch\n",
    "import pyro\n",
    "from pyro.infer import config_enumerate\n",
    "import pyro.poutine as poutine"
   ]
  },
  {
   "attachments": {},
   "cell_type": "markdown",
   "metadata": {},
   "source": [
    "# Distributions\n",
    "\n",
    "Pyro distributions are wrappers around Torch distributions. They have the following main functions:\n",
    "\n",
    "* `d.sample(sample_shape=[])` : randomly sample values from the distribution\n",
    "\n",
    "* `d.log_prob(x)` : returns the log probability (likelihood) of a given variable under the distribution\n",
    "\n",
    "Note, however, that we will generally use the pyro.sample(\"name\", dist) wrapper function in implementing models."
   ]
  },
  {
   "cell_type": "code",
   "execution_count": 1369,
   "metadata": {},
   "outputs": [],
   "source": [
    "from pyro.distributions import Bernoulli, Categorical, MultivariateNormal, Normal, HalfNormal"
   ]
  },
  {
   "cell_type": "code",
   "execution_count": 1370,
   "metadata": {},
   "outputs": [
    {
     "data": {
      "text/plain": [
       "tensor([[0., 1., 1., 1., 1.],\n",
       "        [1., 1., 1., 1., 0.]])"
      ]
     },
     "execution_count": 1370,
     "metadata": {},
     "output_type": "execute_result"
    }
   ],
   "source": [
    "d = Bernoulli(0.7)\n",
    "x = d.sample((2, 5))\n",
    "x"
   ]
  },
  {
   "cell_type": "code",
   "execution_count": 1371,
   "metadata": {},
   "outputs": [
    {
     "data": {
      "text/plain": [
       "tensor([[-1.2040, -0.3567, -0.3567, -0.3567, -0.3567],\n",
       "        [-0.3567, -0.3567, -0.3567, -0.3567, -1.2040]])"
      ]
     },
     "execution_count": 1371,
     "metadata": {},
     "output_type": "execute_result"
    }
   ],
   "source": [
    "d.log_prob(x)"
   ]
  },
  {
   "cell_type": "code",
   "execution_count": 1372,
   "metadata": {},
   "outputs": [
    {
     "data": {
      "text/plain": [
       "tensor([[1, 1, 2, 2, 1, 1, 1, 2, 1, 1],\n",
       "        [1, 1, 0, 3, 1, 1, 2, 1, 2, 1]])"
      ]
     },
     "execution_count": 1372,
     "metadata": {},
     "output_type": "execute_result"
    }
   ],
   "source": [
    "d = Categorical(probs=torch.tensor([0.1, 0.5, 0.3, 0.1]))\n",
    "d.sample((2,10))"
   ]
  },
  {
   "cell_type": "code",
   "execution_count": 1373,
   "metadata": {},
   "outputs": [
    {
     "data": {
      "text/plain": [
       "tensor([[ 0.2676,  1.1033,  1.2653, -0.7328, -1.2921],\n",
       "        [ 0.4180,  1.9084, -0.3475,  1.8060, -0.4609]])"
      ]
     },
     "execution_count": 1373,
     "metadata": {},
     "output_type": "execute_result"
    }
   ],
   "source": [
    "d = Normal(0, 1)\n",
    "d.sample((2,5))"
   ]
  },
  {
   "cell_type": "code",
   "execution_count": 1374,
   "metadata": {},
   "outputs": [
    {
     "data": {
      "text/plain": [
       "tensor(-0.9189)"
      ]
     },
     "execution_count": 1374,
     "metadata": {},
     "output_type": "execute_result"
    }
   ],
   "source": [
    "d.log_prob(torch.tensor(0))"
   ]
  },
  {
   "cell_type": "code",
   "execution_count": 1375,
   "metadata": {},
   "outputs": [
    {
     "data": {
      "text/plain": [
       "tensor(-50.9189)"
      ]
     },
     "execution_count": 1375,
     "metadata": {},
     "output_type": "execute_result"
    }
   ],
   "source": [
    "d.log_prob(torch.tensor(10))"
   ]
  },
  {
   "cell_type": "code",
   "execution_count": 1376,
   "metadata": {},
   "outputs": [
    {
     "data": {
      "text/plain": [
       "tensor([ 0.0129, -9.0116, 11.4071])"
      ]
     },
     "execution_count": 1376,
     "metadata": {},
     "output_type": "execute_result"
    }
   ],
   "source": [
    "loc = torch.tensor([0., -10., 10.])\n",
    "cov = torch.eye(3)\n",
    "d = MultivariateNormal(loc, cov)\n",
    "d.sample()"
   ]
  },
  {
   "attachments": {},
   "cell_type": "markdown",
   "metadata": {},
   "source": [
    "# Sampling within Pyro models\n",
    "\n",
    "In order to implement inference algorithms, Pyro defines a wrapper for sampling named values (or \"sites\") within a model.\n",
    "\n",
    "A site corresponds to a latent variable, unless the argument \"obs\" is given, marking the sampled value as an observation (in this case, the observation will always be returned when directly calling the model)."
   ]
  },
  {
   "cell_type": "code",
   "execution_count": 1377,
   "metadata": {},
   "outputs": [
    {
     "data": {
      "text/plain": [
       "tensor(-0.4096)"
      ]
     },
     "execution_count": 1377,
     "metadata": {},
     "output_type": "execute_result"
    }
   ],
   "source": [
    "def model1():\n",
    "    return pyro.sample(\"Z\", Normal(0, 1))\n",
    "\n",
    "model1()"
   ]
  },
  {
   "cell_type": "code",
   "execution_count": 1378,
   "metadata": {},
   "outputs": [
    {
     "data": {
      "text/plain": [
       "tensor(100)"
      ]
     },
     "execution_count": 1378,
     "metadata": {},
     "output_type": "execute_result"
    }
   ],
   "source": [
    "def model2():\n",
    "    return pyro.sample(\"obs\", Normal(0, 1), obs=torch.tensor(100))\n",
    "\n",
    "model2()"
   ]
  },
  {
   "attachments": {},
   "cell_type": "markdown",
   "metadata": {},
   "source": [
    "# Declaring iid variables with Plate\n",
    "\n",
    "Pyro offers a \"plate\" context manager that allows multiple independently and identically distributed (iid) variables to be drawn. Declaring iid in this way increases the efficiency of inference."
   ]
  },
  {
   "cell_type": "code",
   "execution_count": 1379,
   "metadata": {},
   "outputs": [
    {
     "data": {
      "text/plain": [
       "tensor([-100.0000,  -77.7778,  -55.5556,  -33.3333,  -11.1111,   11.1111,\n",
       "          33.3333,   55.5556,   77.7778,  100.0000])"
      ]
     },
     "execution_count": 1379,
     "metadata": {},
     "output_type": "execute_result"
    }
   ],
   "source": [
    "data = torch.linspace(-100, 100, 10)\n",
    "\n",
    "def model3(data):\n",
    "  with pyro.plate(\"data\", len(data)):\n",
    "    return pyro.sample(\"obs\", Normal(0, 1), obs=data)\n",
    "\n",
    "model3(data)"
   ]
  },
  {
   "attachments": {},
   "cell_type": "markdown",
   "metadata": {},
   "source": [
    "# Registering tunable parameters\n",
    "\n",
    "When doing statistical inference using SVI, you want to be able to register all parameters that should be updated during gradient descent. \n",
    "\n",
    "These parameters are stored in a global dictionary.\n",
    "\n",
    "It is also possible to impose a constraint on a parameter, such as that it must be greater than 0.\n",
    "\n",
    "NOTE: if training multiple models in the same code/REPL, you need to manually clear the param store."
   ]
  },
  {
   "cell_type": "code",
   "execution_count": 1380,
   "metadata": {},
   "outputs": [
    {
     "data": {
      "text/plain": [
       "tensor(-2., requires_grad=True)"
      ]
     },
     "execution_count": 1380,
     "metadata": {},
     "output_type": "execute_result"
    }
   ],
   "source": [
    "from pyro.distributions import constraints\n",
    "\n",
    "pyro.clear_param_store()\n",
    "\n",
    "def model4(data):\n",
    "  loc = pyro.param(\"loc\", torch.tensor(-2.))\n",
    "  scale = pyro.param(\"scale\", torch.tensor(1.), constraint=constraints.positive)\n",
    "\n",
    "  with pyro.plate(\"data\", len(data)):\n",
    "    return pyro.sample(\"obs\", Normal(loc, scale), obs=data)\n",
    "  \n",
    "model4(data)\n",
    "\n",
    "pyro.get_param_store()[\"loc\"]"
   ]
  },
  {
   "attachments": {},
   "cell_type": "markdown",
   "metadata": {},
   "source": [
    "# Tensor shapes in Pyro\n",
    "\n",
    "### Three types of dimensions that make up a tensor:\n",
    "\n",
    "* __event shape__ : dependent random variables (e.g., one draw from a MultivariateNormal)\n",
    "\n",
    "* __batch shape__ : independent random variables (e.g., two draws from two separate Normals)\n",
    "\n",
    "* __sample shape__ : independent and identically distributed (iid) random variables (e.g., two draws from one Normal)\n",
    "\n",
    "### Best practices\n",
    "\n",
    "Batch shape is always the leftmost shape dimension, so use the following notations to access values across batches:\n",
    "\n",
    "* Negative indices like `x.sum(-1)`\n",
    "\n",
    "* Ellipsis notation like `pixel = image[..., i, j]`\n",
    "\n",
    "Tensors broadcast on the right, e.g., `torch.ones(3,4,5) + torch.ones(5)`.\n",
    "\n",
    "In general, it's always safe to assume dependence, but declaring variables independent when appropriate can improve efficiency in inference."
   ]
  },
  {
   "cell_type": "code",
   "execution_count": 1381,
   "metadata": {},
   "outputs": [
    {
     "name": "stdout",
     "output_type": "stream",
     "text": [
      "torch.Size([3]) = torch.Size([]) + torch.Size([3])\n"
     ]
    }
   ],
   "source": [
    "loc = torch.tensor([0., -10., 10.])\n",
    "cov = torch.eye(3)\n",
    "d = MultivariateNormal(loc, cov)\n",
    "x = d.sample()\n",
    "\n",
    "print(x.shape, '=', d.batch_shape, '+', d.event_shape)"
   ]
  },
  {
   "cell_type": "code",
   "execution_count": 1382,
   "metadata": {},
   "outputs": [
    {
     "name": "stdout",
     "output_type": "stream",
     "text": [
      "torch.Size([]) = torch.Size([])\n"
     ]
    }
   ],
   "source": [
    "l = d.log_prob(x)\n",
    "\n",
    "print(l.shape, '=', d.batch_shape)"
   ]
  },
  {
   "cell_type": "code",
   "execution_count": 1383,
   "metadata": {},
   "outputs": [
    {
     "name": "stdout",
     "output_type": "stream",
     "text": [
      "torch.Size([5, 3]) = torch.Size([5]) + torch.Size([3])\n"
     ]
    }
   ],
   "source": [
    "batch_size = 5\n",
    "loc = torch.tensor([0., -10., 10.]).repeat((batch_size,1))\n",
    "cov = torch.eye(3).repeat((batch_size,1,1))\n",
    "d = MultivariateNormal(loc, cov)\n",
    "x = d.sample()\n",
    "\n",
    "print(x.shape, '=', d.batch_shape, '+', d.event_shape)"
   ]
  },
  {
   "cell_type": "code",
   "execution_count": 1384,
   "metadata": {},
   "outputs": [
    {
     "name": "stdout",
     "output_type": "stream",
     "text": [
      "torch.Size([5]) = torch.Size([5])\n"
     ]
    }
   ],
   "source": [
    "l = d.log_prob(x)\n",
    "\n",
    "print(l.shape, '=', d.batch_shape)"
   ]
  },
  {
   "cell_type": "code",
   "execution_count": 1385,
   "metadata": {},
   "outputs": [
    {
     "name": "stdout",
     "output_type": "stream",
     "text": [
      "torch.Size([10, 3]) = torch.Size([10]) + torch.Size([3])\n"
     ]
    }
   ],
   "source": [
    "sample_size = 10\n",
    "loc = torch.tensor([0., -10., 10.])\n",
    "cov = torch.eye(3)\n",
    "d = MultivariateNormal(loc, cov)\n",
    "with pyro.plate(\"samples\", sample_size):\n",
    "    x = pyro.sample(\"x\", d)\n",
    "\n",
    "print(x.shape, '=', torch.Size([sample_size]), '+', d.event_shape)"
   ]
  },
  {
   "attachments": {},
   "cell_type": "markdown",
   "metadata": {},
   "source": [
    "# Debugging with Poutine\n",
    "\n",
    "Poutine is a library of _effect handlers_ that can record and modify the behavior of Pyro programs.\n",
    "\n",
    "One common use is to trace the execution of a model and record the shapes of all sites in the model. This will show batch/sample shapes on the left, and event shapes on the right."
   ]
  },
  {
   "cell_type": "code",
   "execution_count": 1386,
   "metadata": {},
   "outputs": [
    {
     "name": "stdout",
     "output_type": "stream",
     "text": [
      "   Trace Shapes:       \n",
      "    Param Sites:       \n",
      "             loc    3  \n",
      "             cov  3 3  \n",
      "   Sample Sites:       \n",
      "factors_all dist    |  \n",
      "           value  5 |  \n",
      "        log_prob    |  \n",
      "    factors dist  5 | 3\n",
      "           value  5 | 3\n",
      "        log_prob  5 |  \n",
      "      scale dist    |  \n",
      "           value    |  \n",
      "        log_prob    |  \n",
      "       data dist    |  \n",
      "           value 10 |  \n",
      "        log_prob    |  \n",
      "        obs dist 10 |  \n",
      "           value 10 |  \n",
      "        log_prob 10 |  \n"
     ]
    }
   ],
   "source": [
    "pyro.clear_param_store()\n",
    "\n",
    "def model5(data):\n",
    "  loc = pyro.param(\"loc\", torch.tensor([0., -10., 10.]))\n",
    "  cov = pyro.param(\"cov\", torch.eye(3))\n",
    "\n",
    "  with pyro.plate(\"factors_all\", 5):\n",
    "    factors = pyro.sample(\"factors\", MultivariateNormal(loc, cov))\n",
    "\n",
    "  scale = pyro.sample(\"scale\", HalfNormal(factors.sum()))\n",
    "\n",
    "  with pyro.plate(\"data\", len(data)):\n",
    "    return pyro.sample(\"obs\", Normal(0, scale), obs=data)\n",
    "\n",
    "trace = poutine.trace(model5).get_trace(data)\n",
    "trace.compute_log_prob()\n",
    "print(trace.format_shapes())"
   ]
  }
 ],
 "metadata": {
  "kernelspec": {
   "display_name": "Python 3",
   "language": "python",
   "name": "python3"
  },
  "language_info": {
   "codemirror_mode": {
    "name": "ipython",
    "version": 3
   },
   "file_extension": ".py",
   "mimetype": "text/x-python",
   "name": "python",
   "nbconvert_exporter": "python",
   "pygments_lexer": "ipython3",
   "version": "3.8.0"
  },
  "orig_nbformat": 4,
  "vscode": {
   "interpreter": {
    "hash": "d940ee888a12a4a15d563f3b1b7b5137a6af2b50148890a449d20aba3f5f8b49"
   }
  }
 },
 "nbformat": 4,
 "nbformat_minor": 2
}
